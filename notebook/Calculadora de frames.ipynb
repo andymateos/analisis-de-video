{
 "cells": [
  {
   "cell_type": "markdown",
   "id": "02652bfe-fc3f-4cdc-9ae5-5deb21a8425e",
   "metadata": {},
   "source": [
    "# Calculadora de frames\n",
    "\n",
    "Este script toma videos y da como resultado un archivo csv con la diferencia entre todos los fotogramas contiguos con el objetivo de detectar movimiento de manera simple.\n",
    "\n",
    "Para ello extrae los fotogramas, los resta, y a la imagen resultante se le calcula la media, el desvio estandar, el máximo y el mínimo. Luego guarda la matriz en un archivo .csv."
   ]
  },
  {
   "cell_type": "code",
   "execution_count": 4,
   "id": "7723f496-444a-4f96-a03f-a032dafb9488",
   "metadata": {},
   "outputs": [],
   "source": [
    "# Librerias\n",
    "import os\n",
    "import cv2\n",
    "import numpy as np\n",
    "from matplotlib import pyplot as plt"
   ]
  },
  {
   "cell_type": "code",
   "execution_count": 5,
   "id": "a662c11e-282c-4fd3-8790-f957556deccd",
   "metadata": {},
   "outputs": [],
   "source": [
    "# Funciones\n",
    "def calculate_frame_difference(frame1, frame2):\n",
    "    # Convert frames to grayscale\n",
    "    gray1 = cv2.cvtColor(frame1, cv2.COLOR_BGR2GRAY)\n",
    "    gray2 = cv2.cvtColor(frame2, cv2.COLOR_BGR2GRAY)\n",
    "    \n",
    "    # Calculate absolute differences for each channel\n",
    "    diff_gray = cv2.absdiff(gray1, gray2)\n",
    "    \n",
    "    return diff_gray"
   ]
  },
  {
   "cell_type": "code",
   "execution_count": 6,
   "id": "f366a2e3-1ab1-45f6-a296-767872f48eef",
   "metadata": {},
   "outputs": [],
   "source": [
    "# Main\n",
    "# Open video file\n",
    "\n",
    "folder_path = \"C:/Users/charl/Documents/Doctorado/Videos/Experment/181021/Test 1\"\n",
    "video_list = []\n",
    "for file in os.listdir(folder_path):\n",
    "    if '.wmv' in file:\n",
    "        video_list.append(file)\n",
    "\n",
    "for video in video_list:\n",
    "    video_path = folder_path+'/'+video\n",
    "    cap = cv2.VideoCapture(video_path)\n",
    "    # Check if the video file was opened successfully\n",
    "    if not cap.isOpened():\n",
    "        print(\"Error: Could not open video file.\")\n",
    "        exit()\n",
    "\n",
    "    # Read first frame\n",
    "    ret, prev_frame = cap.read()\n",
    "\n",
    "    # Initialize variables to store statistics\n",
    "    mean_values = []\n",
    "\n",
    "    # Loop through the video frames\n",
    "    while cap.isOpened():\n",
    "    # Read next frame\n",
    "        ret, next_frame = cap.read()\n",
    "        if not ret:\n",
    "            break  # Break the loop if no frame is retrieved\n",
    "\n",
    "    # Calculate color differences between frames\n",
    "        diff_gray = calculate_frame_difference(prev_frame, next_frame)\n",
    "\n",
    "    # Calculate statistics for each difference\n",
    "        diff_gray_stats = [np.mean(diff_gray), np.std(diff_gray), np.median(diff_gray), np.max(diff_gray), np.min(diff_gray)]\n",
    "    \n",
    "    # Store statistics for this frame pair\n",
    "        mean_values.append(diff_gray_stats)\n",
    "\n",
    "    # Update the previous frame\n",
    "        prev_frame = next_frame\n",
    "\n",
    "    # Convert the statistics lists to numpy arrays\n",
    "    mean_values = np.array(mean_values)\n",
    "\n",
    "    # Release video capture object\n",
    "    cap.release()\n",
    "\n",
    "    # Save the calculated statistics\n",
    "    np.savetxt(video_path[:-4]+'grayvalues.csv', mean_values, delimiter=\",\")"
   ]
  }
 ],
 "metadata": {
  "kernelspec": {
   "display_name": "Python 3 (ipykernel)",
   "language": "python",
   "name": "python3"
  },
  "language_info": {
   "codemirror_mode": {
    "name": "ipython",
    "version": 3
   },
   "file_extension": ".py",
   "mimetype": "text/x-python",
   "name": "python",
   "nbconvert_exporter": "python",
   "pygments_lexer": "ipython3",
   "version": "3.11.5"
  }
 },
 "nbformat": 4,
 "nbformat_minor": 5
}
